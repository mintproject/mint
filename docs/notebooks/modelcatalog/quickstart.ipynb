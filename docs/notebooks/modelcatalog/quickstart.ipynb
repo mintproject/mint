{
 "cells": [
  {
   "cell_type": "markdown",
   "metadata": {},
   "source": [
    "## MINT Model Catalog API client\n",
    "\n",
    "This notebook shows how interact with the MINT Model catalog using the MINT Model Catalog API client.\n",
    "\n",
    "For more information about this client: https://github.com/mintproject/MINT-ModelCatalogAPI-client\n",
    "You can submit issues at https://github.com/mintproject/MINT-ModelCatalogIngestionAPI/issues"
   ]
  },
  {
   "cell_type": "markdown",
   "metadata": {},
   "source": [
    "### First steps\n",
    "\n",
    "You must import the required modules and obtain the default configuration to interact with the API"
   ]
  },
  {
   "cell_type": "code",
   "execution_count": 103,
   "metadata": {},
   "outputs": [],
   "source": [
    "from __future__ import print_function\n",
    "import time\n",
    "import modelcatalog\n",
    "from modelcatalog.rest import ApiException\n",
    "from pprint import pprint\n",
    "import json\n",
    "import ast\n",
    "from pprint import pprint\n",
    "import texttable as tt\n",
    "\n",
    "configuration = modelcatalog.Configuration()"
   ]
  },
  {
   "cell_type": "code",
   "execution_count": 106,
   "metadata": {},
   "outputs": [],
   "source": [
    "def print_data_property_table(resource):\n",
    "    tab = tt.Texttable()\n",
    "    headings = ['Property', 'Value']\n",
    "    tab.header(headings)\n",
    "    for key, value in resource.to_dict().items():\n",
    "        if isinstance(value, dict) or key == \"type\":\n",
    "            continue\n",
    "        tab.add_row([key,value])\n",
    "    print(tab.draw())"
   ]
  },
  {
   "cell_type": "markdown",
   "metadata": {},
   "source": [
    "## Authentication\n",
    "### Why do you need authentication?\n",
    "\n",
    "You have your own workspace to store your models. So, you must authenticate to modify your models."
   ]
  },
  {
   "cell_type": "markdown",
   "metadata": {},
   "source": [
    "### Log in\n",
    "\n",
    "After, we must login in to the system. We can login using the method `api_instance.login_user(username, password)`. This method returns the access token and you must save the token in the configuration variable\n",
    "```\n",
    "    configuration.access_token = api_instance.login_user(username, password)\n",
    "```"
   ]
  },
  {
   "cell_type": "code",
   "execution_count": 32,
   "metadata": {},
   "outputs": [],
   "source": [
    "# create an instance of the API class\n",
    "api_instance = modelcatalog.DefaultApi()\n",
    "username = 'mint@isi.edu' # str | The user name for login"
   ]
  },
  {
   "cell_type": "markdown",
   "metadata": {},
   "source": [
    "### Yay!\n",
    "Congrats! You can create new models!"
   ]
  },
  {
   "cell_type": "markdown",
   "metadata": {},
   "source": [
    "## Model Configuration\n",
    "\n",
    "A model may be configured in different ways depending on the data that is avaialble. For example, if topological information is available, a groundwater model may use it to produce a better estimation of the water budget of an aquifer. A model configuration represents a unique setting of inputs and outputs of a given model designed for a particular functionality.\n",
    "\n",
    "https://mintproject.github.io/Mint-ModelCatalog-Ontology/modelCatalog/release/0.4.0/index-en.html#ModelConfiguration|\n",
    "\n"
   ]
  },
  {
   "cell_type": "markdown",
   "metadata": {},
   "source": [
    "### List model configurations\n",
    "\n",
    "\n",
    "You can list your model configurations using the method `api_instance.get_model_configurations(username=username)` or you can list our parameters using the method `api_instance.get_model_configurations()` "
   ]
  },
  {
   "cell_type": "code",
   "execution_count": 75,
   "metadata": {},
   "outputs": [
    {
     "name": "stdout",
     "output_type": "stream",
     "text": [
      "'Number of model configurations available: 101'\n"
     ]
    }
   ],
   "source": [
    "api_instance = modelcatalog.ModelConfigurationApi()\n",
    "try:\n",
    "    # List modelconfiguration\n",
    "    model_configurations = api_instance.modelconfigurations_get(username=username)\n",
    "    pprint(\"Number of model configurations available: {}\".format(len(model_configurations)))\n",
    "except ApiException as e:\n",
    "    print(\"Exception when calling ModelconfigurationApi->get_model_configurations: %s\\n\" % e)\n",
    "    "
   ]
  },
  {
   "cell_type": "markdown",
   "metadata": {},
   "source": [
    "### Get model configuration\n",
    "\n",
    "You can get a model configuration by the name."
   ]
  },
  {
   "cell_type": "code",
   "execution_count": 96,
   "metadata": {},
   "outputs": [],
   "source": [
    "api_instance = modelcatalog.ModelConfigurationApi(modelcatalog.ApiClient(configuration))"
   ]
  },
  {
   "cell_type": "code",
   "execution_count": 97,
   "metadata": {},
   "outputs": [],
   "source": [
    "def print_id_resources(resources):\n",
    "    for resource in resources:\n",
    "        print(resource['id'])"
   ]
  },
  {
   "cell_type": "code",
   "execution_count": 98,
   "metadata": {},
   "outputs": [
    {
     "name": "stdout",
     "output_type": "stream",
     "text": [
      "Inputs\n",
      "https://w3id.org/okn/i/mint/cycles-0.9.4-alpha_soil\n",
      "https://w3id.org/okn/i/mint/cycles-0.9.4-alpha_crops\n",
      "https://w3id.org/okn/i/mint/cycles-0.9.4-alpha_weather\n",
      "Outputs\n",
      "https://w3id.org/okn/i/mint/cycles-0.9.4-alpha_soilProfile\n",
      "https://w3id.org/okn/i/mint/cycles-0.9.4-alpha_crop\n",
      "https://w3id.org/okn/i/mint/cycles-0.9.4-alpha_water\n",
      "https://w3id.org/okn/i/mint/cycles-0.9.4-alpha_summary\n",
      "https://w3id.org/okn/i/mint/cycles-0.9.4-alpha_season\n",
      "https://w3id.org/okn/i/mint/cycles-0.9.4-alpha_outputs\n",
      "https://w3id.org/okn/i/mint/cycles-0.9.4-alpha_nitrogen\n",
      "https://w3id.org/okn/i/mint/cycles-0.9.4-alpha_somF\n",
      "https://w3id.org/okn/i/mint/cycles-0.9.4-alpha_weatherOutput\n",
      "Parameters\n",
      "https://w3id.org/okn/i/mint/cycles-0.9.4-alpha_weed_fraction\n",
      "https://w3id.org/okn/i/mint/cycles-0.9.4-alpha_crop_name\n",
      "https://w3id.org/okn/i/mint/cycles-0.9.4-alpha_end_year\n",
      "https://w3id.org/okn/i/mint/cycles-0.9.4-alpha_fertilizer_rate\n",
      "https://w3id.org/okn/i/mint/cycles-0.9.4-alpha_start_year\n",
      "https://w3id.org/okn/i/mint/cycles-0.9.4-alpha_end_planting_day\n",
      "https://w3id.org/okn/i/mint/cycles-0.9.4-alpha_start_planting_day\n",
      "https://w3id.org/okn/i/mint/cycles-0.9.4-alpha_use_forcing\n"
     ]
    }
   ],
   "source": [
    "resource_id='cycles-0.9.4-alpha'\n",
    "try:\n",
    "    # Get modelconfiguration\n",
    "    api_response = api_instance.modelconfigurations_id_get(resource_id, username=username)\n",
    "    model_configuration = api_response\n",
    "except ApiException as e:\n",
    "    print(\"Exception when calling ModelconfigurationApi->get_model_configuraton: %s\\n\" % e)\n",
    "\n",
    "#Print the basic information\n",
    "print(\"Inputs\")\n",
    "print_id_resources(api_response.has_input)\n",
    "\n",
    "print(\"Outputs\")\n",
    "print_id_resources(api_response.has_output)\n",
    "\n",
    "print(\"Parameters\")\n",
    "print_id_resources(api_response.has_parameter)\n"
   ]
  },
  {
   "cell_type": "markdown",
   "metadata": {},
   "source": [
    "### Obtain the parameters of a model configuration\n",
    "\n",
    "If you want more information about the parameters of the model configuration. You can obtain the information using the method `api_instance.get_parameters_by_modelconfiguration(name)``\n"
   ]
  },
  {
   "cell_type": "code",
   "execution_count": 112,
   "metadata": {},
   "outputs": [
    {
     "name": "stdout",
     "output_type": "stream",
     "text": [
      "+----------------------------+-------------------------------------------------+\n",
      "|          Property          |                      Value                      |\n",
      "+============================+=================================================+\n",
      "| has_default_value          | ['0.05']                                        |\n",
      "+----------------------------+-------------------------------------------------+\n",
      "| has_maximum_accepted_value | ['2']                                           |\n",
      "+----------------------------+-------------------------------------------------+\n",
      "| has_data_type              | ['float']                                       |\n",
      "+----------------------------+-------------------------------------------------+\n",
      "| description                | ['Areal fraction of weed: 0.05 is low, 0.25 is  |\n",
      "|                            | moderate, 1 is high, and 2 is the maximum       |\n",
      "|                            | (after 2 there will be no response from the     |\n",
      "|                            | model)']                                        |\n",
      "+----------------------------+-------------------------------------------------+\n",
      "| label                      | ['weed_fraction']                               |\n",
      "+----------------------------+-------------------------------------------------+\n",
      "| has_minimum_accepted_value | ['0']                                           |\n",
      "+----------------------------+-------------------------------------------------+\n",
      "| adjusts_variable           | [{'id':                                         |\n",
      "|                            | 'https://w3id.org/okn/i/mint/cycles_fraction',  |\n",
      "|                            | 'label': ['FRACTION'], 'type': ['Variable',     |\n",
      "|                            | 'VariablePresentation']}]                       |\n",
      "+----------------------------+-------------------------------------------------+\n",
      "| position                   | [7]                                             |\n",
      "+----------------------------+-------------------------------------------------+\n",
      "| id                         | https://w3id.org/okn/i/mint/cycles-0.9.4-alpha_ |\n",
      "|                            | weed_fraction                                   |\n",
      "+----------------------------+-------------------------------------------------+\n",
      "| uses_unit                  | [{'id': 'https://w3id.org/okn/i/mint/%25',      |\n",
      "|                            | 'label': ['%'], 'type':                         |\n",
      "|                            | 'http://qudt.org/1.1/schema/qudt#Unit'}]        |\n",
      "+----------------------------+-------------------------------------------------+\n"
     ]
    }
   ],
   "source": [
    "# create an instance of the API class\n",
    "parameter_id='cycles-0.9.4-alpha_weed_fraction'\n",
    "api_instance = modelcatalog.ParameterApi()\n",
    "try:\n",
    "    # List all Parameter entities\n",
    "    api_response = api_instance.parameters_id_get(parameter_id, username=username)\n",
    "    print_data_property_table(api_response)\n",
    "except ApiException as e:\n",
    "    print(\"Exception when calling ParameterApi->parameters_get: %s\\n\" % e)"
   ]
  },
  {
   "cell_type": "markdown",
   "metadata": {},
   "source": [
    "### Obtain the inputs of a model configuration\n",
    "\n",
    "If you want more information about the inputs of the model configuration. You can obtain the information using the method `api_instance.get_inputs_by_modelconfiguration(name)``\n"
   ]
  },
  {
   "cell_type": "code",
   "execution_count": 116,
   "metadata": {},
   "outputs": [
    {
     "name": "stdout",
     "output_type": "stream",
     "text": [
      "+--------------------+---------------------------------------------------------+\n",
      "|      Property      |                          Value                          |\n",
      "+====================+=========================================================+\n",
      "| has_dimensionality | [0]                                                     |\n",
      "+--------------------+---------------------------------------------------------+\n",
      "| has_format         | ['dat']                                                 |\n",
      "+--------------------+---------------------------------------------------------+\n",
      "| description        | ['Results in this file are for the sum of all layers in |\n",
      "|                    | the soil profile, including surface residues']          |\n",
      "+--------------------+---------------------------------------------------------+\n",
      "| has_presentation   | [{'label': ['RES C DECOMP'], 'type':                    |\n",
      "|                    | ['VariablePresentation'], 'id':                         |\n",
      "|                    | 'https://w3id.org/okn/i/mint/cycles_res_c_decomp'},     |\n",
      "|                    | {'label': ['HUMIFIED C'], 'type':                       |\n",
      "|                    | ['VariablePresentation'], 'id':                         |\n",
      "|                    | 'https://w3id.org/okn/i/mint/cycles_humified_c2'},      |\n",
      "|                    | {'label': ['FINAL C'], 'type':                          |\n",
      "|                    | ['VariablePresentation'], 'id':                         |\n",
      "|                    | 'https://w3id.org/okn/i/mint/cycles_final_c'},          |\n",
      "|                    | {'label': ['RES BIOMASS IN'], 'type':                   |\n",
      "|                    | ['VariablePresentation'], 'id':                         |\n",
      "|                    | 'https://w3id.org/okn/i/mint/cycles_res_biomass_in'},   |\n",
      "|                    | {'label': ['YEAR'], 'type': ['VariablePresentation'],   |\n",
      "|                    | 'id': 'https://w3id.org/okn/i/mint/cycles_year'},       |\n",
      "|                    | {'label': ['C DIFF'], 'type': ['VariablePresentation'], |\n",
      "|                    | 'id': 'https://w3id.org/okn/i/mint/cycles_c_diff'},     |\n",
      "|                    | {'label': ['RESPIRED C'], 'type':                       |\n",
      "|                    | ['VariablePresentation'], 'id':                         |\n",
      "|                    | 'https://w3id.org/okn/i/mint/cycles_respired_c'},       |\n",
      "|                    | {'label': ['INIT C MASS'], 'type':                      |\n",
      "|                    | ['VariablePresentation'], 'id':                         |\n",
      "|                    | 'https://w3id.org/okn/i/mint/cycles_init_c_mass'},      |\n",
      "|                    | {'label': ['ROOT C DECOMP'], 'type':                    |\n",
      "|                    | ['VariablePresentation'], 'id':                         |\n",
      "|                    | 'https://w3id.org/okn/i/mint/cycles_root_c_decomp'},    |\n",
      "|                    | {'label': ['ROOT BIOMASS IN'], 'type':                  |\n",
      "|                    | ['VariablePresentation'], 'id':                         |\n",
      "|                    | 'https://w3id.org/okn/i/mint/cycles_root_biomass_in'}]  |\n",
      "+--------------------+---------------------------------------------------------+\n",
      "| position           | [1]                                                     |\n",
      "+--------------------+---------------------------------------------------------+\n",
      "| id                 | https://w3id.org/okn/i/mint/cycles-0.9.4-alpha_soilProf |\n",
      "|                    | ile                                                     |\n",
      "+--------------------+---------------------------------------------------------+\n",
      "| label              | ['cycles_soilProfile']                                  |\n",
      "+--------------------+---------------------------------------------------------+\n"
     ]
    }
   ],
   "source": [
    "api_instance = modelcatalog.DatasetSpecificationApi()\n",
    "resource_id = 'cycles-0.9.4-alpha_soilProfile' # str | The ID of the resource\n",
    "\n",
    "try:\n",
    "    # Get a DatasetSpecification\n",
    "    api_response = api_instance.datasetspecifications_id_get(resource_id, username=username)\n",
    "    print_data_property_table(api_response)\n",
    "except ApiException as e:\n",
    "    print(\"Exception when calling DatasetSpecificationApi->datasetspecifications_id_get: %s\\n\" % e)"
   ]
  },
  {
   "cell_type": "markdown",
   "metadata": {},
   "source": [
    "### Obtain the outpus of a model configuration\n",
    "\n",
    "If you want more information about the inputs of the model configuration. You can obtain the information using the method `api_instance.get_outputs_by_modelconfiguration(name)``\n"
   ]
  },
  {
   "cell_type": "code",
   "execution_count": 117,
   "metadata": {},
   "outputs": [
    {
     "name": "stdout",
     "output_type": "stream",
     "text": [
      "+--------------------+---------------------------------------------------------+\n",
      "|      Property      |                          Value                          |\n",
      "+====================+=========================================================+\n",
      "| has_dimensionality | [0]                                                     |\n",
      "+--------------------+---------------------------------------------------------+\n",
      "| has_format         | ['dat']                                                 |\n",
      "+--------------------+---------------------------------------------------------+\n",
      "| description        | ['Cycles weather output file']                          |\n",
      "+--------------------+---------------------------------------------------------+\n",
      "| has_presentation   | [{'label': ['MIN TMP'], 'type':                         |\n",
      "|                    | ['VariablePresentation'], 'id':                         |\n",
      "|                    | 'https://w3id.org/okn/i/mint/cycles_min_tmp'},          |\n",
      "|                    | {'label': ['DATE'], 'type': ['VariablePresentation'],   |\n",
      "|                    | 'id': 'https://w3id.org/okn/i/mint/cycles_date'},       |\n",
      "|                    | {'label': ['MAX TMP'], 'type':                          |\n",
      "|                    | ['VariablePresentation'], 'id':                         |\n",
      "|                    | 'https://w3id.org/okn/i/mint/cycles_max_tmp'},          |\n",
      "|                    | {'label': ['PRECIPITATION'], 'type':                    |\n",
      "|                    | ['VariablePresentation'], 'id':                         |\n",
      "|                    | 'https://w3id.org/okn/i/mint/cycles_precipitation'},    |\n",
      "|                    | {'label': ['AVG TMP'], 'type':                          |\n",
      "|                    | ['VariablePresentation'], 'id':                         |\n",
      "|                    | 'https://w3id.org/okn/i/mint/cycles_avg_tmp'},          |\n",
      "|                    | {'label': ['REFERENCE ET'], 'type':                     |\n",
      "|                    | ['VariablePresentation'], 'id':                         |\n",
      "|                    | 'https://w3id.org/okn/i/mint/cycles_reference_et'}]     |\n",
      "+--------------------+---------------------------------------------------------+\n",
      "| position           | [7]                                                     |\n",
      "+--------------------+---------------------------------------------------------+\n",
      "| id                 | https://w3id.org/okn/i/mint/cycles-0.9.4-alpha_weatherO |\n",
      "|                    | utput                                                   |\n",
      "+--------------------+---------------------------------------------------------+\n",
      "| label              | ['cycles_weatherOutput']                                |\n",
      "+--------------------+---------------------------------------------------------+\n"
     ]
    }
   ],
   "source": [
    "api_instance = modelcatalog.DatasetSpecificationApi()\n",
    "resource_id = 'cycles-0.9.4-alpha_weatherOutput' # str | The ID of the resource\n",
    "\n",
    "try:\n",
    "    # Get a DatasetSpecification\n",
    "    api_response = api_instance.datasetspecifications_id_get(resource_id, username=username)\n",
    "    print_data_property_table(api_response)\n",
    "except ApiException as e:\n",
    "    print(\"Exception when calling DatasetSpecificationApi->datasetspecifications_id_get: %s\\n\" % e)"
   ]
  },
  {
   "cell_type": "markdown",
   "metadata": {},
   "source": [
    "## Variable\n",
    "\n",
    "A model may be configured in different ways depending on the data that is avaialble. For example, if topological information is available, a groundwater model may use it to produce a better estimation of the water budget of an aquifer. A model configuration represents a unique setting of inputs and outputs of a given model designed for a particular functionality.\n",
    "\n",
    "https://mintproject.github.io/Mint-ModelCatalog-Ontology/modelCatalog/release/0.4.0/index-en.html#ModelConfiguration|\n"
   ]
  },
  {
   "cell_type": "code",
   "execution_count": null,
   "metadata": {},
   "outputs": [],
   "source": []
  }
 ],
 "metadata": {
  "kernelspec": {
   "display_name": "Python 3",
   "language": "python",
   "name": "python3"
  },
  "language_info": {
   "codemirror_mode": {
    "name": "ipython",
    "version": 3
   },
   "file_extension": ".py",
   "mimetype": "text/x-python",
   "name": "python",
   "nbconvert_exporter": "python",
   "pygments_lexer": "ipython3",
   "version": "3.7.5"
  }
 },
 "nbformat": 4,
 "nbformat_minor": 2
}
